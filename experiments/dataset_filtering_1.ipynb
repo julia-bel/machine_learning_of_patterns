{
 "cells": [
  {
   "cell_type": "code",
   "execution_count": 1,
   "id": "9b50cf6c",
   "metadata": {},
   "outputs": [
    {
     "name": "stdout",
     "output_type": "stream",
     "text": [
      "C:\\Users\\yulya\\PycharmProjects\\machine_learning_of_patterns\n"
     ]
    }
   ],
   "source": [
    "cd ../"
   ]
  },
  {
   "cell_type": "code",
   "execution_count": 2,
   "id": "3fa47402",
   "metadata": {},
   "outputs": [],
   "source": [
    "import time\n",
    "import numpy as np\n",
    "from typing import Any, Tuple"
   ]
  },
  {
   "cell_type": "code",
   "execution_count": 3,
   "id": "43528229",
   "metadata": {},
   "outputs": [],
   "source": [
    "from regex.parser import RegexParser\n",
    "from regex.regex import *"
   ]
  },
  {
   "cell_type": "code",
   "execution_count": 4,
   "id": "808300b7",
   "metadata": {},
   "outputs": [],
   "source": [
    "with open(\"datasets/dataset.csv\", \"r\") as f:\n",
    "    REGEXES = f.read().split(\"\\n\")[:-1]"
   ]
  },
  {
   "cell_type": "markdown",
   "id": "6a9d5072",
   "metadata": {},
   "source": [
    "## Parentheses expansion"
   ]
  },
  {
   "cell_type": "code",
   "execution_count": 5,
   "id": "1bfa8f8f",
   "metadata": {},
   "outputs": [],
   "source": [
    "tests = [\n",
    "    [\"((K*|K*|(K*)*)*)*\", \"(K*|K*|K**)**\"],\n",
    "    [\"(i((j))*)*|t*\", \"(ij*)*|t*\"],\n",
    "    [\"((asssdfa|bbbssad|B*))*\", \"(asssdfa|bbbssad|B*)*\"],\n",
    "    [\"((a|B*))*\", \"(a|B*)*\"],\n",
    "    [\"((a*)*)*\", \"a***\"],\n",
    "    [\"s*((l|B*)oF*)*\", \"s*((l|B*)oF*)*\"],\n",
    "    [\"(QJ*|q|(M(un)|B)*|C)\", \"QJ*|q|(Mun|B)*|C\"],\n",
    "    [\"((v*))*\", \"v**\"],\n",
    "    [\"(abnm)*\", \"(abnm)*\"],\n",
    "    [\"a|((a(a*)*)a|a(a)*)*\", \"a|(aa**a|aa*)*\"]\n",
    "]"
   ]
  },
  {
   "cell_type": "code",
   "execution_count": 6,
   "id": "242ca4d6",
   "metadata": {},
   "outputs": [],
   "source": [
    "for test in tests:\n",
    "    res = RegexParser(test[0], [100] * 20).parse()\n",
    "    if test[1] != str(res):\n",
    "        res.plot().render(\"visualization/test.gv\", format=\"png\")\n",
    "        print(f\"Test {test[0]}. Expected: {test[1]}, result: {res}\")\n",
    "        break"
   ]
  },
  {
   "cell_type": "markdown",
   "id": "a747a1bd",
   "metadata": {},
   "source": [
    "### Dataset"
   ]
  },
  {
   "cell_type": "code",
   "execution_count": 17,
   "id": "e0f14d89",
   "metadata": {},
   "outputs": [],
   "source": [
    "BASE_REGEXES = []"
   ]
  },
  {
   "cell_type": "code",
   "execution_count": 18,
   "id": "4a3ad25e",
   "metadata": {},
   "outputs": [],
   "source": [
    "with open(\"datasets/base_dataset.csv\", \"w\") as f:  \n",
    "    for regex in REGEXES:\n",
    "        BASE_REGEXES.append(RegexParser(regex, [100] * 100).parse())\n",
    "        f.write(str(BASE_REGEXES[-1]) + \"\\n\")"
   ]
  },
  {
   "cell_type": "markdown",
   "id": "0a277048",
   "metadata": {},
   "source": [
    "## First approximation "
   ]
  },
  {
   "cell_type": "code",
   "execution_count": 9,
   "id": "39972022",
   "metadata": {},
   "outputs": [],
   "source": [
    "def get_approximation(str_regex: str) -> str:\n",
    "    \n",
    "    def approximate(regex: Regex, height: int = 0) -> Tuple[Optional[Regex], int]:\n",
    "        if isinstance(regex, BaseRegex):\n",
    "            return regex, height\n",
    "        if isinstance(regex, AlternativeRegex) or isinstance(regex, ConcatenationRegex):\n",
    "            apps = [approximate(value, height) for value in regex.value]\n",
    "            return apps[np.argmax([app[1] for app in apps])]\n",
    "        if isinstance(regex, StarRegex):\n",
    "            height += 1\n",
    "            if isinstance(regex.value, BaseRegex):\n",
    "                return regex, height\n",
    "            apps = [approximate(value, height) for value in regex.value.value]\n",
    "            max_idx = np.argmax([app[1] for app in apps])\n",
    "            return StarRegex(apps[max_idx][0], 1), apps[max_idx][1]\n",
    "    \n",
    "    regex = RegexParser(str_regex, [1] * len(str_regex)).parse()\n",
    "    approximation = approximate(regex)\n",
    "    return str(approximation[0])"
   ]
  },
  {
   "cell_type": "code",
   "execution_count": 10,
   "id": "d968e2de",
   "metadata": {},
   "outputs": [],
   "source": [
    "tests = [\n",
    "    [\"jd*\", \"d*\"],\n",
    "    [\"(R*(o|l)(i*|g)*(h)*h)*\", \"i***\"],\n",
    "    [\"z(q*|k*O*|HL*)*\", \"q**\"],\n",
    "    [\"o(r*(H*j*|D*))*\", \"r**\"],\n",
    "    [\"x*h((Q*|P))*\", \"Q**\"]\n",
    "]"
   ]
  },
  {
   "cell_type": "code",
   "execution_count": 11,
   "id": "799e3be3",
   "metadata": {},
   "outputs": [],
   "source": [
    "for test in tests:\n",
    "    app = get_approximation(test[0])\n",
    "    if test[1] != str(app):\n",
    "        res.plot().render(\"visualization/test.gv\", format=\"png\")\n",
    "        print(f\"Test {test[0]}. Expected: {test[1]}, result: {app}\")\n",
    "        break"
   ]
  },
  {
   "cell_type": "markdown",
   "id": "eb599fe9",
   "metadata": {},
   "source": [
    "### Dataset"
   ]
  },
  {
   "cell_type": "code",
   "execution_count": 12,
   "id": "cabb9bc9",
   "metadata": {},
   "outputs": [],
   "source": [
    "APPROX_REGEXES = []"
   ]
  },
  {
   "cell_type": "code",
   "execution_count": 13,
   "id": "d5858c33",
   "metadata": {},
   "outputs": [],
   "source": [
    "with open(\"datasets/approx_dataset.csv\", \"w\") as f:  \n",
    "    for regex in REGEXES:\n",
    "        APPROX_REGEXES.append(get_approximation(regex))\n",
    "        f.write(str(APPROX_REGEXES[-1]) + \"\\n\")"
   ]
  },
  {
   "cell_type": "markdown",
   "id": "6d1a881f",
   "metadata": {},
   "source": [
    "## Learning"
   ]
  },
  {
   "cell_type": "code",
   "execution_count": 21,
   "id": "80e2bada",
   "metadata": {},
   "outputs": [],
   "source": [
    "import pandas as pd"
   ]
  },
  {
   "cell_type": "code",
   "execution_count": 14,
   "id": "c6015073",
   "metadata": {},
   "outputs": [],
   "source": [
    "from pattern.pattern import NEVariable, NEPattern"
   ]
  },
  {
   "cell_type": "markdown",
   "id": "4e2e49a9",
   "metadata": {},
   "source": [
    "python main.py -d datasets/approx_dataset.csv -o\n",
    "\n",
    "Length=2: 100%|██████████████████████████████████████████| 2/2 [00:00<?, ?it/s, pattern=f\\*]\n",
    "\n",
    "Length=3: 100%|██████████████████████████████████████████| 37/37 [00:00<?, ?it/s, pattern=x1\\*\\*]\n",
    "\n",
    "Length=4: 100%|██████████████████████████████████████████| 26/26 [00:00<?, ?it/s, pattern=x1\\*\\*\\*]\n",
    "\n",
    "Length=5: 100%|██████████████████████████████████████████| 12/12 [00:00<00:00, 768.04it/s, pattern=x1\\*\\*\\*\\*] \n",
    "\n",
    "Length=6: 100%|██████████████████████████████████████████| 3/3 [00:00<?, ?it/s, pattern=x1\\*\\*\\*\\*\\*]\n",
    "\n",
    "\n",
    "Result: x1\\*"
   ]
  },
  {
   "cell_type": "code",
   "execution_count": 16,
   "id": "75fd92a1",
   "metadata": {},
   "outputs": [],
   "source": [
    "result = NEPattern([NEVariable(), \"*\"])"
   ]
  },
  {
   "cell_type": "code",
   "execution_count": 19,
   "id": "fe826a31",
   "metadata": {},
   "outputs": [],
   "source": [
    "data = {\n",
    "    \"regex\": [],\n",
    "    \"match\": []\n",
    "}\n",
    "\n",
    "for regex in BASE_REGEXES:\n",
    "    data[\"regex\"].append(str(regex))\n",
    "    data[\"match\"].append(result.match(str(regex)))"
   ]
  },
  {
   "cell_type": "code",
   "execution_count": 22,
   "id": "8fff3aa0",
   "metadata": {},
   "outputs": [],
   "source": [
    "df = pd.DataFrame(data)"
   ]
  },
  {
   "cell_type": "code",
   "execution_count": 24,
   "id": "a3a37712",
   "metadata": {},
   "outputs": [
    {
     "data": {
      "text/html": [
       "<div>\n",
       "<style scoped>\n",
       "    .dataframe tbody tr th:only-of-type {\n",
       "        vertical-align: middle;\n",
       "    }\n",
       "\n",
       "    .dataframe tbody tr th {\n",
       "        vertical-align: top;\n",
       "    }\n",
       "\n",
       "    .dataframe thead th {\n",
       "        text-align: right;\n",
       "    }\n",
       "</style>\n",
       "<table border=\"1\" class=\"dataframe\">\n",
       "  <thead>\n",
       "    <tr style=\"text-align: right;\">\n",
       "      <th></th>\n",
       "      <th>regex</th>\n",
       "      <th>match</th>\n",
       "    </tr>\n",
       "  </thead>\n",
       "  <tbody>\n",
       "    <tr>\n",
       "      <th>13</th>\n",
       "      <td>(ii*i*)**Bf</td>\n",
       "      <td>False</td>\n",
       "    </tr>\n",
       "    <tr>\n",
       "      <th>18</th>\n",
       "      <td>(r(k(u*d*)*)*O)*Z</td>\n",
       "      <td>False</td>\n",
       "    </tr>\n",
       "    <tr>\n",
       "      <th>21</th>\n",
       "      <td>QJ*|q|(M(un)*|B)*|C</td>\n",
       "      <td>False</td>\n",
       "    </tr>\n",
       "    <tr>\n",
       "      <th>24</th>\n",
       "      <td>(o*|I|dC)**L*|F</td>\n",
       "      <td>False</td>\n",
       "    </tr>\n",
       "    <tr>\n",
       "      <th>27</th>\n",
       "      <td>YN(l**|u*)a(Hc|E*)|l</td>\n",
       "      <td>False</td>\n",
       "    </tr>\n",
       "    <tr>\n",
       "      <th>28</th>\n",
       "      <td>((wN*O*d)**|l)*X</td>\n",
       "      <td>False</td>\n",
       "    </tr>\n",
       "    <tr>\n",
       "      <th>34</th>\n",
       "      <td>W*|(eU|o**M)*Z</td>\n",
       "      <td>False</td>\n",
       "    </tr>\n",
       "    <tr>\n",
       "      <th>60</th>\n",
       "      <td>T*p|(A|A**)*|A</td>\n",
       "      <td>False</td>\n",
       "    </tr>\n",
       "    <tr>\n",
       "      <th>63</th>\n",
       "      <td>(NU|DZ)***S</td>\n",
       "      <td>False</td>\n",
       "    </tr>\n",
       "    <tr>\n",
       "      <th>70</th>\n",
       "      <td>(I*K*)*m</td>\n",
       "      <td>False</td>\n",
       "    </tr>\n",
       "    <tr>\n",
       "      <th>73</th>\n",
       "      <td>(XD*)*FuC</td>\n",
       "      <td>False</td>\n",
       "    </tr>\n",
       "    <tr>\n",
       "      <th>74</th>\n",
       "      <td>B*(S|E*)*|m</td>\n",
       "      <td>False</td>\n",
       "    </tr>\n",
       "  </tbody>\n",
       "</table>\n",
       "</div>"
      ],
      "text/plain": [
       "                   regex  match\n",
       "13           (ii*i*)**Bf  False\n",
       "18     (r(k(u*d*)*)*O)*Z  False\n",
       "21   QJ*|q|(M(un)*|B)*|C  False\n",
       "24       (o*|I|dC)**L*|F  False\n",
       "27  YN(l**|u*)a(Hc|E*)|l  False\n",
       "28      ((wN*O*d)**|l)*X  False\n",
       "34        W*|(eU|o**M)*Z  False\n",
       "60        T*p|(A|A**)*|A  False\n",
       "63           (NU|DZ)***S  False\n",
       "70              (I*K*)*m  False\n",
       "73             (XD*)*FuC  False\n",
       "74           B*(S|E*)*|m  False"
      ]
     },
     "execution_count": 24,
     "metadata": {},
     "output_type": "execute_result"
    }
   ],
   "source": [
    "df[~df[\"match\"]]"
   ]
  },
  {
   "cell_type": "code",
   "execution_count": 25,
   "id": "ea914ca5",
   "metadata": {},
   "outputs": [],
   "source": [
    "df.to_csv(\"experiments/first_filtering.csv\", index=False)"
   ]
  },
  {
   "cell_type": "code",
   "execution_count": null,
   "id": "70f844cf",
   "metadata": {},
   "outputs": [],
   "source": []
  }
 ],
 "metadata": {
  "kernelspec": {
   "display_name": "Python 3 (ipykernel)",
   "language": "python",
   "name": "python3"
  },
  "language_info": {
   "codemirror_mode": {
    "name": "ipython",
    "version": 3
   },
   "file_extension": ".py",
   "mimetype": "text/x-python",
   "name": "python",
   "nbconvert_exporter": "python",
   "pygments_lexer": "ipython3",
   "version": "3.9.13"
  }
 },
 "nbformat": 4,
 "nbformat_minor": 5
}
